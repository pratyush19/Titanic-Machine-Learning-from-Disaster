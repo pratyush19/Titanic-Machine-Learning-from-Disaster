{
 "cells": [
  {
   "cell_type": "markdown",
   "metadata": {},
   "source": [
    "# Investigate a dataset : Titanic"
   ]
  },
  {
   "cell_type": "markdown",
   "metadata": {},
   "source": [
    "## Contents of the dataset"
   ]
  },
  {
   "cell_type": "code",
   "execution_count": 1,
   "metadata": {
    "collapsed": false
   },
   "outputs": [
    {
     "data": {
      "text/html": [
       "<div>\n",
       "<table border=\"1\" class=\"dataframe\">\n",
       "  <thead>\n",
       "    <tr style=\"text-align: right;\">\n",
       "      <th></th>\n",
       "      <th>PassengerId</th>\n",
       "      <th>Survived</th>\n",
       "      <th>Pclass</th>\n",
       "      <th>Name</th>\n",
       "      <th>Sex</th>\n",
       "      <th>Age</th>\n",
       "      <th>SibSp</th>\n",
       "      <th>Parch</th>\n",
       "      <th>Ticket</th>\n",
       "      <th>Fare</th>\n",
       "      <th>Cabin</th>\n",
       "      <th>Embarked</th>\n",
       "    </tr>\n",
       "  </thead>\n",
       "  <tbody>\n",
       "    <tr>\n",
       "      <th>0</th>\n",
       "      <td>1</td>\n",
       "      <td>0</td>\n",
       "      <td>3</td>\n",
       "      <td>Braund, Mr. Owen Harris</td>\n",
       "      <td>male</td>\n",
       "      <td>22.0</td>\n",
       "      <td>1</td>\n",
       "      <td>0</td>\n",
       "      <td>A/5 21171</td>\n",
       "      <td>7.2500</td>\n",
       "      <td>NaN</td>\n",
       "      <td>S</td>\n",
       "    </tr>\n",
       "    <tr>\n",
       "      <th>1</th>\n",
       "      <td>2</td>\n",
       "      <td>1</td>\n",
       "      <td>1</td>\n",
       "      <td>Cumings, Mrs. John Bradley (Florence Briggs Th...</td>\n",
       "      <td>female</td>\n",
       "      <td>38.0</td>\n",
       "      <td>1</td>\n",
       "      <td>0</td>\n",
       "      <td>PC 17599</td>\n",
       "      <td>71.2833</td>\n",
       "      <td>C85</td>\n",
       "      <td>C</td>\n",
       "    </tr>\n",
       "    <tr>\n",
       "      <th>2</th>\n",
       "      <td>3</td>\n",
       "      <td>1</td>\n",
       "      <td>3</td>\n",
       "      <td>Heikkinen, Miss. Laina</td>\n",
       "      <td>female</td>\n",
       "      <td>26.0</td>\n",
       "      <td>0</td>\n",
       "      <td>0</td>\n",
       "      <td>STON/O2. 3101282</td>\n",
       "      <td>7.9250</td>\n",
       "      <td>NaN</td>\n",
       "      <td>S</td>\n",
       "    </tr>\n",
       "    <tr>\n",
       "      <th>3</th>\n",
       "      <td>4</td>\n",
       "      <td>1</td>\n",
       "      <td>1</td>\n",
       "      <td>Futrelle, Mrs. Jacques Heath (Lily May Peel)</td>\n",
       "      <td>female</td>\n",
       "      <td>35.0</td>\n",
       "      <td>1</td>\n",
       "      <td>0</td>\n",
       "      <td>113803</td>\n",
       "      <td>53.1000</td>\n",
       "      <td>C123</td>\n",
       "      <td>S</td>\n",
       "    </tr>\n",
       "    <tr>\n",
       "      <th>4</th>\n",
       "      <td>5</td>\n",
       "      <td>0</td>\n",
       "      <td>3</td>\n",
       "      <td>Allen, Mr. William Henry</td>\n",
       "      <td>male</td>\n",
       "      <td>35.0</td>\n",
       "      <td>0</td>\n",
       "      <td>0</td>\n",
       "      <td>373450</td>\n",
       "      <td>8.0500</td>\n",
       "      <td>NaN</td>\n",
       "      <td>S</td>\n",
       "    </tr>\n",
       "  </tbody>\n",
       "</table>\n",
       "</div>"
      ],
      "text/plain": [
       "   PassengerId  Survived  Pclass  \\\n",
       "0            1         0       3   \n",
       "1            2         1       1   \n",
       "2            3         1       3   \n",
       "3            4         1       1   \n",
       "4            5         0       3   \n",
       "\n",
       "                                                Name     Sex   Age  SibSp  \\\n",
       "0                            Braund, Mr. Owen Harris    male  22.0      1   \n",
       "1  Cumings, Mrs. John Bradley (Florence Briggs Th...  female  38.0      1   \n",
       "2                             Heikkinen, Miss. Laina  female  26.0      0   \n",
       "3       Futrelle, Mrs. Jacques Heath (Lily May Peel)  female  35.0      1   \n",
       "4                           Allen, Mr. William Henry    male  35.0      0   \n",
       "\n",
       "   Parch            Ticket     Fare Cabin Embarked  \n",
       "0      0         A/5 21171   7.2500   NaN        S  \n",
       "1      0          PC 17599  71.2833   C85        C  \n",
       "2      0  STON/O2. 3101282   7.9250   NaN        S  \n",
       "3      0            113803  53.1000  C123        S  \n",
       "4      0            373450   8.0500   NaN        S  "
      ]
     },
     "execution_count": 1,
     "metadata": {},
     "output_type": "execute_result"
    }
   ],
   "source": [
    "import pandas as pd\n",
    "\n",
    "df = pd.read_csv('titanic_data.csv')\n",
    "df.head()"
   ]
  },
  {
   "cell_type": "markdown",
   "metadata": {},
   "source": [
    "## Our tasks:\n",
    "\n",
    " What factors made people more likely to survive?"
   ]
  },
  {
   "cell_type": "markdown",
   "metadata": {},
   "source": [
    "## First Stage: Data Wrangling (Data Cleaning)\n",
    "\n",
    " Before we start our analysis we should first remove the unnecessary data (columns) which are not useful. e.g., 'Ticket', 'Cabin', 'Embarked'. These following data's are not required since the survival of the passenger does not depend on these."
   ]
  },
  {
   "cell_type": "code",
   "execution_count": 2,
   "metadata": {
    "collapsed": false
   },
   "outputs": [
    {
     "data": {
      "text/html": [
       "<div>\n",
       "<table border=\"1\" class=\"dataframe\">\n",
       "  <thead>\n",
       "    <tr style=\"text-align: right;\">\n",
       "      <th></th>\n",
       "      <th>PassengerId</th>\n",
       "      <th>Survived</th>\n",
       "      <th>Pclass</th>\n",
       "      <th>Name</th>\n",
       "      <th>Sex</th>\n",
       "      <th>Age</th>\n",
       "      <th>SibSp</th>\n",
       "      <th>Parch</th>\n",
       "      <th>Fare</th>\n",
       "    </tr>\n",
       "  </thead>\n",
       "  <tbody>\n",
       "    <tr>\n",
       "      <th>0</th>\n",
       "      <td>1</td>\n",
       "      <td>0</td>\n",
       "      <td>3</td>\n",
       "      <td>Braund, Mr. Owen Harris</td>\n",
       "      <td>male</td>\n",
       "      <td>22.0</td>\n",
       "      <td>1</td>\n",
       "      <td>0</td>\n",
       "      <td>7.2500</td>\n",
       "    </tr>\n",
       "    <tr>\n",
       "      <th>1</th>\n",
       "      <td>2</td>\n",
       "      <td>1</td>\n",
       "      <td>1</td>\n",
       "      <td>Cumings, Mrs. John Bradley (Florence Briggs Th...</td>\n",
       "      <td>female</td>\n",
       "      <td>38.0</td>\n",
       "      <td>1</td>\n",
       "      <td>0</td>\n",
       "      <td>71.2833</td>\n",
       "    </tr>\n",
       "    <tr>\n",
       "      <th>2</th>\n",
       "      <td>3</td>\n",
       "      <td>1</td>\n",
       "      <td>3</td>\n",
       "      <td>Heikkinen, Miss. Laina</td>\n",
       "      <td>female</td>\n",
       "      <td>26.0</td>\n",
       "      <td>0</td>\n",
       "      <td>0</td>\n",
       "      <td>7.9250</td>\n",
       "    </tr>\n",
       "    <tr>\n",
       "      <th>3</th>\n",
       "      <td>4</td>\n",
       "      <td>1</td>\n",
       "      <td>1</td>\n",
       "      <td>Futrelle, Mrs. Jacques Heath (Lily May Peel)</td>\n",
       "      <td>female</td>\n",
       "      <td>35.0</td>\n",
       "      <td>1</td>\n",
       "      <td>0</td>\n",
       "      <td>53.1000</td>\n",
       "    </tr>\n",
       "    <tr>\n",
       "      <th>4</th>\n",
       "      <td>5</td>\n",
       "      <td>0</td>\n",
       "      <td>3</td>\n",
       "      <td>Allen, Mr. William Henry</td>\n",
       "      <td>male</td>\n",
       "      <td>35.0</td>\n",
       "      <td>0</td>\n",
       "      <td>0</td>\n",
       "      <td>8.0500</td>\n",
       "    </tr>\n",
       "  </tbody>\n",
       "</table>\n",
       "</div>"
      ],
      "text/plain": [
       "   PassengerId  Survived  Pclass  \\\n",
       "0            1         0       3   \n",
       "1            2         1       1   \n",
       "2            3         1       3   \n",
       "3            4         1       1   \n",
       "4            5         0       3   \n",
       "\n",
       "                                                Name     Sex   Age  SibSp  \\\n",
       "0                            Braund, Mr. Owen Harris    male  22.0      1   \n",
       "1  Cumings, Mrs. John Bradley (Florence Briggs Th...  female  38.0      1   \n",
       "2                             Heikkinen, Miss. Laina  female  26.0      0   \n",
       "3       Futrelle, Mrs. Jacques Heath (Lily May Peel)  female  35.0      1   \n",
       "4                           Allen, Mr. William Henry    male  35.0      0   \n",
       "\n",
       "   Parch     Fare  \n",
       "0      0   7.2500  \n",
       "1      0  71.2833  \n",
       "2      0   7.9250  \n",
       "3      0  53.1000  \n",
       "4      0   8.0500  "
      ]
     },
     "execution_count": 2,
     "metadata": {},
     "output_type": "execute_result"
    }
   ],
   "source": [
    "df = df.drop(['Ticket', 'Cabin', 'Embarked'], axis = 1)\n",
    "df.head()"
   ]
  },
  {
   "cell_type": "markdown",
   "metadata": {},
   "source": [
    "We check how many null values in every columns."
   ]
  },
  {
   "cell_type": "code",
   "execution_count": 3,
   "metadata": {
    "collapsed": false
   },
   "outputs": [
    {
     "data": {
      "text/plain": [
       "PassengerId      0\n",
       "Survived         0\n",
       "Pclass           0\n",
       "Name             0\n",
       "Sex              0\n",
       "Age            177\n",
       "SibSp            0\n",
       "Parch            0\n",
       "Fare             0\n",
       "dtype: int64"
      ]
     },
     "execution_count": 3,
     "metadata": {},
     "output_type": "execute_result"
    }
   ],
   "source": [
    "count_nan = len(df) - df.count()\n",
    "count_nan"
   ]
  },
  {
   "cell_type": "markdown",
   "metadata": {},
   "source": [
    "From the above result, we found that only 'Age' column has null values. So, we remove the rows which have null values."
   ]
  },
  {
   "cell_type": "code",
   "execution_count": 4,
   "metadata": {
    "collapsed": false
   },
   "outputs": [],
   "source": [
    "df_nan = df.dropna()"
   ]
  },
  {
   "cell_type": "markdown",
   "metadata": {},
   "source": [
    "## Second Stage: Data Exploration\n",
    "\n",
    "Analyse the data to find patterns which helps to solve our problems"
   ]
  },
  {
   "cell_type": "markdown",
   "metadata": {},
   "source": [
    "### Total people in the dataset"
   ]
  },
  {
   "cell_type": "code",
   "execution_count": 5,
   "metadata": {
    "collapsed": false
   },
   "outputs": [
    {
     "data": {
      "text/html": [
       "<div>\n",
       "<table border=\"1\" class=\"dataframe\">\n",
       "  <thead>\n",
       "    <tr style=\"text-align: right;\">\n",
       "      <th></th>\n",
       "      <th>Male</th>\n",
       "      <th>Female</th>\n",
       "      <th>Total</th>\n",
       "    </tr>\n",
       "  </thead>\n",
       "  <tbody>\n",
       "    <tr>\n",
       "      <th>Upper Class</th>\n",
       "      <td>122</td>\n",
       "      <td>94</td>\n",
       "      <td>216</td>\n",
       "    </tr>\n",
       "    <tr>\n",
       "      <th>Middle Class</th>\n",
       "      <td>108</td>\n",
       "      <td>76</td>\n",
       "      <td>184</td>\n",
       "    </tr>\n",
       "    <tr>\n",
       "      <th>Lower Class</th>\n",
       "      <td>347</td>\n",
       "      <td>144</td>\n",
       "      <td>491</td>\n",
       "    </tr>\n",
       "    <tr>\n",
       "      <th>Total</th>\n",
       "      <td>577</td>\n",
       "      <td>314</td>\n",
       "      <td>891</td>\n",
       "    </tr>\n",
       "  </tbody>\n",
       "</table>\n",
       "</div>"
      ],
      "text/plain": [
       "              Male  Female  Total\n",
       "Upper Class    122      94    216\n",
       "Middle Class   108      76    184\n",
       "Lower Class    347     144    491\n",
       "Total          577     314    891"
      ]
     },
     "execution_count": 5,
     "metadata": {},
     "output_type": "execute_result"
    }
   ],
   "source": [
    "def length(pclass, sex):\n",
    "    return len(df[(df['Sex'] == sex) & (df['Pclass'] == pclass)])\n",
    "\n",
    "male_upper = length(1,'male')\n",
    "male_middle = length(2,'male')\n",
    "male_lower = length(3,'male')\n",
    "female_upper = length(1,'female')\n",
    "female_middle = length(2,'female')\n",
    "female_lower = length(3,'female')\n",
    "total_sum = male_upper + male_middle + male_lower + female_upper + female_middle + female_lower \n",
    "\n",
    "total_people = pd.DataFrame(\n",
    "        data = [[male_upper, female_upper, male_upper+female_upper],\n",
    "                [male_middle, female_middle, male_middle+female_middle],\n",
    "                [male_lower, female_lower, male_lower+female_lower],\n",
    "                [male_lower+male_middle+male_upper, female_upper+female_middle+female_lower, total_sum]],\n",
    "        index = ['Upper Class', 'Middle Class', 'Lower Class', 'Total'],\n",
    "        columns = ['Male', 'Female', 'Total']\n",
    ")\n",
    "\n",
    "total_people"
   ]
  },
  {
   "cell_type": "markdown",
   "metadata": {},
   "source": [
    "We have found that total 577 male and 314 female. Out of 577 male, 122 belongs to Upper Class, 108 belongs to Middle Class and 347 belongs to Lower Class. Out of 314 female, 94 belongs to Upper Class, 76 belongs to Middle Class and 144 belongs to Lower Class. There are total 891 people in the dataset."
   ]
  },
  {
   "cell_type": "markdown",
   "metadata": {},
   "source": [
    "### Total people survived in the dataset"
   ]
  },
  {
   "cell_type": "code",
   "execution_count": 6,
   "metadata": {
    "collapsed": false
   },
   "outputs": [
    {
     "data": {
      "text/html": [
       "<div>\n",
       "<table border=\"1\" class=\"dataframe\">\n",
       "  <thead>\n",
       "    <tr style=\"text-align: right;\">\n",
       "      <th></th>\n",
       "      <th>Male</th>\n",
       "      <th>Female</th>\n",
       "      <th>Total</th>\n",
       "    </tr>\n",
       "  </thead>\n",
       "  <tbody>\n",
       "    <tr>\n",
       "      <th>Upper Class</th>\n",
       "      <td>45</td>\n",
       "      <td>91</td>\n",
       "      <td>136</td>\n",
       "    </tr>\n",
       "    <tr>\n",
       "      <th>Middle Class</th>\n",
       "      <td>17</td>\n",
       "      <td>70</td>\n",
       "      <td>87</td>\n",
       "    </tr>\n",
       "    <tr>\n",
       "      <th>Lower Class</th>\n",
       "      <td>47</td>\n",
       "      <td>72</td>\n",
       "      <td>119</td>\n",
       "    </tr>\n",
       "    <tr>\n",
       "      <th>Total</th>\n",
       "      <td>109</td>\n",
       "      <td>233</td>\n",
       "      <td>342</td>\n",
       "    </tr>\n",
       "  </tbody>\n",
       "</table>\n",
       "</div>"
      ],
      "text/plain": [
       "              Male  Female  Total\n",
       "Upper Class     45      91    136\n",
       "Middle Class    17      70     87\n",
       "Lower Class     47      72    119\n",
       "Total          109     233    342"
      ]
     },
     "execution_count": 6,
     "metadata": {},
     "output_type": "execute_result"
    }
   ],
   "source": [
    "def length_survived(pclass, sex):\n",
    "    return len(df[(df['Pclass'] == pclass) & (df['Sex'] == sex) & (df['Survived'] == 1)])\n",
    "\n",
    "male_survived_upper = length_survived(1,'male')\n",
    "male_survived_middle = length_survived(2,'male')\n",
    "male_survived_lower = length_survived(3,'male')\n",
    "female_survived_upper = length_survived(1,'female')\n",
    "female_survived_middle = length_survived(2,'female')\n",
    "female_survived_lower = length_survived(3,'female')\n",
    "total_survived_sum = male_survived_upper + male_survived_middle + male_survived_lower\\\n",
    "                    + female_survived_upper + female_survived_middle + female_survived_lower \n",
    "\n",
    "total_people_survived = pd.DataFrame(\n",
    "        data = [[male_survived_upper, female_survived_upper, male_survived_upper+female_survived_upper],\n",
    "                [male_survived_middle, female_survived_middle, male_survived_middle+female_survived_middle],\n",
    "                [male_survived_lower, female_survived_lower, male_survived_lower+female_survived_lower],\n",
    "                [male_survived_lower+male_survived_middle+male_survived_upper, \n",
    "                 female_survived_upper+female_survived_middle+female_survived_lower, total_survived_sum]],\n",
    "        index = ['Upper Class', 'Middle Class', 'Lower Class', 'Total'],\n",
    "        columns = ['Male', 'Female', 'Total']\n",
    ")\n",
    "\n",
    "total_people_survived"
   ]
  },
  {
   "cell_type": "markdown",
   "metadata": {},
   "source": [
    "We have found that total 109 male and 233 female survived. Out of 109 male survived, 45 belongs to Upper Class, 17 belongs to Middle Class and 47 belongs to Lower Class. Out of 314 female survived, 91 belongs to Upper Class, 70 belongs to Middle Class and 72 belongs to Lower Class. There are total 342 people survived in the dataset."
   ]
  },
  {
   "cell_type": "markdown",
   "metadata": {},
   "source": [
    "### Count unique lastname"
   ]
  },
  {
   "cell_type": "code",
   "execution_count": 7,
   "metadata": {
    "collapsed": false
   },
   "outputs": [
    {
     "data": {
      "text/html": [
       "<div>\n",
       "<table border=\"1\" class=\"dataframe\">\n",
       "  <thead>\n",
       "    <tr style=\"text-align: right;\">\n",
       "      <th></th>\n",
       "      <th>Name</th>\n",
       "    </tr>\n",
       "  </thead>\n",
       "  <tbody>\n",
       "    <tr>\n",
       "      <th>Andersson</th>\n",
       "      <td>9</td>\n",
       "    </tr>\n",
       "    <tr>\n",
       "      <th>Sage</th>\n",
       "      <td>7</td>\n",
       "    </tr>\n",
       "    <tr>\n",
       "      <th>Carter</th>\n",
       "      <td>6</td>\n",
       "    </tr>\n",
       "    <tr>\n",
       "      <th>Goodwin</th>\n",
       "      <td>6</td>\n",
       "    </tr>\n",
       "    <tr>\n",
       "      <th>Skoog</th>\n",
       "      <td>6</td>\n",
       "    </tr>\n",
       "  </tbody>\n",
       "</table>\n",
       "</div>"
      ],
      "text/plain": [
       "           Name\n",
       "Andersson     9\n",
       "Sage          7\n",
       "Carter        6\n",
       "Goodwin       6\n",
       "Skoog         6"
      ]
     },
     "execution_count": 7,
     "metadata": {},
     "output_type": "execute_result"
    }
   ],
   "source": [
    "lastname = df['Name'].str.split(',').str.get(0)\n",
    "lastname_df = pd.DataFrame(\n",
    "        data = [lastname]\n",
    ")\n",
    "\n",
    "lastname_rows = lastname_df.transpose()\n",
    "lastname_count = lastname_rows.apply(pd.value_counts)\n",
    "lastname_count.head()"
   ]
  },
  {
   "cell_type": "markdown",
   "metadata": {},
   "source": [
    "We count unique lastname so that we can get data about how many people belong to particular lastname or also how many people belong to one family. But, we can't draw conclusion because maybe two family have same lastname. So, we can't say that frequency of the particular lastname equal to number of members in that family."
   ]
  },
  {
   "cell_type": "markdown",
   "metadata": {},
   "source": [
    "### Available age data of people in the dataset"
   ]
  },
  {
   "cell_type": "code",
   "execution_count": 8,
   "metadata": {
    "collapsed": false
   },
   "outputs": [
    {
     "name": "stdout",
     "output_type": "stream",
     "text": [
      "Total number of people : 891\n",
      "Number of people whose age data is available : 714\n",
      "Number of people whose age data is missing : 177\n"
     ]
    }
   ],
   "source": [
    "print 'Total number of people : ' + str(len(df))\n",
    "print 'Number of people whose age data is available : ' +\\\n",
    "        str(len(df[pd.notnull(df['Age'])]))\n",
    "print 'Number of people whose age data is missing : ' +\\\n",
    "        str(len(df[pd.isnull(df['Age'])]))"
   ]
  },
  {
   "cell_type": "markdown",
   "metadata": {},
   "source": [
    "### Mean age of the people "
   ]
  },
  {
   "cell_type": "code",
   "execution_count": 9,
   "metadata": {
    "collapsed": false
   },
   "outputs": [
    {
     "data": {
      "text/html": [
       "<div>\n",
       "<table border=\"1\" class=\"dataframe\">\n",
       "  <thead>\n",
       "    <tr style=\"text-align: right;\">\n",
       "      <th></th>\n",
       "      <th>Male</th>\n",
       "      <th>Female</th>\n",
       "      <th>Total</th>\n",
       "    </tr>\n",
       "  </thead>\n",
       "  <tbody>\n",
       "    <tr>\n",
       "      <th>Upper Class</th>\n",
       "      <td>41.281386</td>\n",
       "      <td>34.611765</td>\n",
       "      <td>38.233441</td>\n",
       "    </tr>\n",
       "    <tr>\n",
       "      <th>Middle Class</th>\n",
       "      <td>30.740707</td>\n",
       "      <td>28.722973</td>\n",
       "      <td>29.877630</td>\n",
       "    </tr>\n",
       "    <tr>\n",
       "      <th>Lower Class</th>\n",
       "      <td>26.507589</td>\n",
       "      <td>21.750000</td>\n",
       "      <td>25.140620</td>\n",
       "    </tr>\n",
       "    <tr>\n",
       "      <th>Total</th>\n",
       "      <td>30.726645</td>\n",
       "      <td>27.915709</td>\n",
       "      <td>29.699118</td>\n",
       "    </tr>\n",
       "  </tbody>\n",
       "</table>\n",
       "</div>"
      ],
      "text/plain": [
       "                   Male     Female      Total\n",
       "Upper Class   41.281386  34.611765  38.233441\n",
       "Middle Class  30.740707  28.722973  29.877630\n",
       "Lower Class   26.507589  21.750000  25.140620\n",
       "Total         30.726645  27.915709  29.699118"
      ]
     },
     "execution_count": 9,
     "metadata": {},
     "output_type": "execute_result"
    }
   ],
   "source": [
    "def age(pclass, sex):\n",
    "    return df[(df['Sex'] == sex) & (df['Pclass'] == pclass) & (pd.notnull(df['Age']))]['Age']\n",
    "\n",
    "male_age_upper = age(1,'male').mean()\n",
    "male_age_middle = age(2,'male').mean()\n",
    "male_age_lower = age(3,'male').mean()\n",
    "female_age_upper = age(1,'female').mean()\n",
    "female_age_middle = age(2,'female').mean()\n",
    "female_age_lower = age(3,'female').mean()\n",
    "\n",
    "total_age_upper = df[(df['Pclass'] == 1) & (pd.notnull(df['Age']))]['Age'].mean()\n",
    "total_age_middle = df[(df['Pclass'] == 2) & (pd.notnull(df['Age']))]['Age'].mean()\n",
    "total_age_lower = df[(df['Pclass'] == 3) & (pd.notnull(df['Age']))]['Age'].mean()\n",
    "male_age_total = df[(df['Sex'] == 'male') & (pd.notnull(df['Age']))]['Age'].mean()\n",
    "female_age_total = df[(df['Sex'] == 'female') & (pd.notnull(df['Age']))]['Age'].mean()\n",
    "total_age = df[(pd.notnull(df['Age']))]['Age'].mean()\n",
    "\n",
    "people_mean_age = pd.DataFrame(\n",
    "        data = [[male_age_upper, female_age_upper, total_age_upper],\n",
    "                [male_age_middle, female_age_middle, total_age_middle],\n",
    "                [male_age_lower, female_age_lower, total_age_lower],\n",
    "                [male_age_total, female_age_total, total_age]],\n",
    "        index = ['Upper Class', 'Middle Class', 'Lower Class', 'Total'],\n",
    "        columns = ['Male', 'Female', 'Total']\n",
    ")\n",
    "\n",
    "people_mean_age"
   ]
  },
  {
   "cell_type": "markdown",
   "metadata": {},
   "source": [
    "Mean age of the male passenger is 30.72  and the female passenger is 27.91. Mean age of the all passenger in the dataset is 29.7."
   ]
  },
  {
   "cell_type": "markdown",
   "metadata": {},
   "source": [
    "### Median age of the people "
   ]
  },
  {
   "cell_type": "code",
   "execution_count": 10,
   "metadata": {
    "collapsed": false
   },
   "outputs": [
    {
     "data": {
      "text/html": [
       "<div>\n",
       "<table border=\"1\" class=\"dataframe\">\n",
       "  <thead>\n",
       "    <tr style=\"text-align: right;\">\n",
       "      <th></th>\n",
       "      <th>Male</th>\n",
       "      <th>Female</th>\n",
       "      <th>Total</th>\n",
       "    </tr>\n",
       "  </thead>\n",
       "  <tbody>\n",
       "    <tr>\n",
       "      <th>Upper Class</th>\n",
       "      <td>40.0</td>\n",
       "      <td>35.0</td>\n",
       "      <td>37.0</td>\n",
       "    </tr>\n",
       "    <tr>\n",
       "      <th>Middle Class</th>\n",
       "      <td>30.0</td>\n",
       "      <td>28.0</td>\n",
       "      <td>29.0</td>\n",
       "    </tr>\n",
       "    <tr>\n",
       "      <th>Lower Class</th>\n",
       "      <td>25.0</td>\n",
       "      <td>21.5</td>\n",
       "      <td>24.0</td>\n",
       "    </tr>\n",
       "    <tr>\n",
       "      <th>Total</th>\n",
       "      <td>29.0</td>\n",
       "      <td>27.0</td>\n",
       "      <td>28.0</td>\n",
       "    </tr>\n",
       "  </tbody>\n",
       "</table>\n",
       "</div>"
      ],
      "text/plain": [
       "              Male  Female  Total\n",
       "Upper Class   40.0    35.0   37.0\n",
       "Middle Class  30.0    28.0   29.0\n",
       "Lower Class   25.0    21.5   24.0\n",
       "Total         29.0    27.0   28.0"
      ]
     },
     "execution_count": 10,
     "metadata": {},
     "output_type": "execute_result"
    }
   ],
   "source": [
    "def age(pclass, sex):\n",
    "    return df[(df['Sex'] == sex) & (df['Pclass'] == pclass) & (pd.notnull(df['Age']))]['Age']\n",
    "\n",
    "male_age_upper = age(1,'male').median()\n",
    "male_age_middle = age(2,'male').median()\n",
    "male_age_lower = age(3,'male').median()\n",
    "female_age_upper = age(1,'female').median()\n",
    "female_age_middle = age(2,'female').median()\n",
    "female_age_lower = age(3,'female').median()\n",
    "\n",
    "total_age_upper = df[(df['Pclass'] == 1) & (pd.notnull(df['Age']))]['Age'].median()\n",
    "total_age_middle = df[(df['Pclass'] == 2) & (pd.notnull(df['Age']))]['Age'].median()\n",
    "total_age_lower = df[(df['Pclass'] == 3) & (pd.notnull(df['Age']))]['Age'].median()\n",
    "male_age_total = df[(df['Sex'] == 'male') & (pd.notnull(df['Age']))]['Age'].median()\n",
    "female_age_total = df[(df['Sex'] == 'female') & (pd.notnull(df['Age']))]['Age'].median()\n",
    "total_age = df[(pd.notnull(df['Age']))]['Age'].median()\n",
    "\n",
    "people_median_age = pd.DataFrame(\n",
    "        data = [[male_age_upper, female_age_upper, total_age_upper],\n",
    "                [male_age_middle, female_age_middle, total_age_middle],\n",
    "                [male_age_lower, female_age_lower, total_age_lower],\n",
    "                [male_age_total, female_age_total, total_age]],\n",
    "        index = ['Upper Class', 'Middle Class', 'Lower Class', 'Total'],\n",
    "        columns = ['Male', 'Female', 'Total']\n",
    ")\n",
    "\n",
    "people_median_age"
   ]
  },
  {
   "cell_type": "markdown",
   "metadata": {},
   "source": [
    "Median age of the male passenger is 29 and the female passenger is 27. Median age of all the passenger in the dataset is 28."
   ]
  },
  {
   "cell_type": "markdown",
   "metadata": {},
   "source": [
    "### Mean age of the survived people"
   ]
  },
  {
   "cell_type": "code",
   "execution_count": 11,
   "metadata": {
    "collapsed": false
   },
   "outputs": [
    {
     "data": {
      "text/html": [
       "<div>\n",
       "<table border=\"1\" class=\"dataframe\">\n",
       "  <thead>\n",
       "    <tr style=\"text-align: right;\">\n",
       "      <th></th>\n",
       "      <th>Male</th>\n",
       "      <th>Female</th>\n",
       "      <th>Total</th>\n",
       "    </tr>\n",
       "  </thead>\n",
       "  <tbody>\n",
       "    <tr>\n",
       "      <th>Upper Class</th>\n",
       "      <td>36.248000</td>\n",
       "      <td>34.939024</td>\n",
       "      <td>35.368197</td>\n",
       "    </tr>\n",
       "    <tr>\n",
       "      <th>Middle Class</th>\n",
       "      <td>16.022000</td>\n",
       "      <td>28.080882</td>\n",
       "      <td>25.901566</td>\n",
       "    </tr>\n",
       "    <tr>\n",
       "      <th>Lower Class</th>\n",
       "      <td>22.274211</td>\n",
       "      <td>19.329787</td>\n",
       "      <td>20.646118</td>\n",
       "    </tr>\n",
       "    <tr>\n",
       "      <th>Total</th>\n",
       "      <td>27.276022</td>\n",
       "      <td>28.847716</td>\n",
       "      <td>28.343690</td>\n",
       "    </tr>\n",
       "  </tbody>\n",
       "</table>\n",
       "</div>"
      ],
      "text/plain": [
       "                   Male     Female      Total\n",
       "Upper Class   36.248000  34.939024  35.368197\n",
       "Middle Class  16.022000  28.080882  25.901566\n",
       "Lower Class   22.274211  19.329787  20.646118\n",
       "Total         27.276022  28.847716  28.343690"
      ]
     },
     "execution_count": 11,
     "metadata": {},
     "output_type": "execute_result"
    }
   ],
   "source": [
    "def age_survived(pclass, sex):\n",
    "    return df[(df['Sex'] == sex) & (df['Pclass'] == pclass) & (df['Survived'] == 1) & (pd.notnull(df['Age']))]['Age']\n",
    "\n",
    "male_survived_age_upper = age_survived(1,'male').mean()\n",
    "male_survived_age_middle = age_survived(2,'male').mean()\n",
    "male_survived_age_lower = age_survived(3,'male').mean()\n",
    "female_survived_age_upper = age_survived(1,'female').mean()\n",
    "female_survived_age_middle = age_survived(2,'female').mean()\n",
    "female_survived_age_lower = age_survived(3,'female').mean()\n",
    "\n",
    "total_survived_age_upper = df[(df['Pclass'] == 1) & (df['Survived'] == 1) & (pd.notnull(df['Age']))]['Age'].mean()\n",
    "total_survived_age_middle = df[(df['Pclass'] == 2) & (df['Survived'] == 1) & (pd.notnull(df['Age']))]['Age'].mean()\n",
    "total_survived_age_lower = df[(df['Pclass'] == 3) & (df['Survived'] == 1) & (pd.notnull(df['Age']))]['Age'].mean()\n",
    "male_survived_age_total = df[(df['Sex'] == 'male') & (df['Survived'] == 1) & (pd.notnull(df['Age']))]['Age'].mean()\n",
    "female_survived_age_total = df[(df['Sex'] == 'female') & (df['Survived'] == 1) & (pd.notnull(df['Age']))]['Age'].mean()\n",
    "total_survived_age = df[(df['Survived'] == 1) & (pd.notnull(df['Age']))]['Age'].mean()\n",
    "\n",
    "people_survived_mean_age = pd.DataFrame(\n",
    "        data = [[male_survived_age_upper, female_survived_age_upper, total_survived_age_upper],\n",
    "                [male_survived_age_middle, female_survived_age_middle, total_survived_age_middle],\n",
    "                [male_survived_age_lower, female_survived_age_lower, total_survived_age_lower],\n",
    "                [male_survived_age_total, female_survived_age_total, total_survived_age]],\n",
    "        index = ['Upper Class', 'Middle Class', 'Lower Class', 'Total'],\n",
    "        columns = ['Male', 'Female', 'Total']\n",
    ")\n",
    "\n",
    "people_survived_mean_age"
   ]
  },
  {
   "cell_type": "markdown",
   "metadata": {},
   "source": [
    "Mean age of the survived male passenger is 30.72  and the female passenger is 27.91. Mean age of the all survived passenger in the dataset is 29.7."
   ]
  },
  {
   "cell_type": "markdown",
   "metadata": {},
   "source": [
    "### Meadian age of the survived people"
   ]
  },
  {
   "cell_type": "code",
   "execution_count": 12,
   "metadata": {
    "collapsed": false
   },
   "outputs": [
    {
     "data": {
      "text/html": [
       "<div>\n",
       "<table border=\"1\" class=\"dataframe\">\n",
       "  <thead>\n",
       "    <tr style=\"text-align: right;\">\n",
       "      <th></th>\n",
       "      <th>Male</th>\n",
       "      <th>Female</th>\n",
       "      <th>Total</th>\n",
       "    </tr>\n",
       "  </thead>\n",
       "  <tbody>\n",
       "    <tr>\n",
       "      <th>Upper Class</th>\n",
       "      <td>36.0</td>\n",
       "      <td>35.0</td>\n",
       "      <td>35.0</td>\n",
       "    </tr>\n",
       "    <tr>\n",
       "      <th>Middle Class</th>\n",
       "      <td>3.0</td>\n",
       "      <td>28.0</td>\n",
       "      <td>28.0</td>\n",
       "    </tr>\n",
       "    <tr>\n",
       "      <th>Lower Class</th>\n",
       "      <td>25.0</td>\n",
       "      <td>19.0</td>\n",
       "      <td>22.0</td>\n",
       "    </tr>\n",
       "    <tr>\n",
       "      <th>Total</th>\n",
       "      <td>28.0</td>\n",
       "      <td>28.0</td>\n",
       "      <td>28.0</td>\n",
       "    </tr>\n",
       "  </tbody>\n",
       "</table>\n",
       "</div>"
      ],
      "text/plain": [
       "              Male  Female  Total\n",
       "Upper Class   36.0    35.0   35.0\n",
       "Middle Class   3.0    28.0   28.0\n",
       "Lower Class   25.0    19.0   22.0\n",
       "Total         28.0    28.0   28.0"
      ]
     },
     "execution_count": 12,
     "metadata": {},
     "output_type": "execute_result"
    }
   ],
   "source": [
    "def age_survived(pclass, sex):\n",
    "    return df[(df['Sex'] == sex) & (df['Pclass'] == pclass) & (df['Survived'] == 1) & (pd.notnull(df['Age']))]['Age']\n",
    "\n",
    "male_survived_age_upper = age_survived(1,'male').median()\n",
    "male_survived_age_middle = age_survived(2,'male').median()\n",
    "male_survived_age_lower = age_survived(3,'male').median()\n",
    "female_survived_age_upper = age_survived(1,'female').median()\n",
    "female_survived_age_middle = age_survived(2,'female').median()\n",
    "female_survived_age_lower = age_survived(3,'female').median()\n",
    "\n",
    "total_survived_age_upper = df[(df['Pclass'] == 1) & (df['Survived'] == 1) & (pd.notnull(df['Age']))]['Age'].median()\n",
    "total_survived_age_middle = df[(df['Pclass'] == 2) & (df['Survived'] == 1) & (pd.notnull(df['Age']))]['Age'].median()\n",
    "total_survived_age_lower = df[(df['Pclass'] == 3) & (df['Survived'] == 1) & (pd.notnull(df['Age']))]['Age'].median()\n",
    "male_survived_age_total = df[(df['Sex'] == 'male') & (df['Survived'] == 1) & (pd.notnull(df['Age']))]['Age'].median()\n",
    "female_survived_age_total = df[(df['Sex'] == 'female') & (df['Survived'] == 1) & (pd.notnull(df['Age']))]['Age'].median()\n",
    "total_survived_age = df[(df['Survived'] == 1) & (pd.notnull(df['Age']))]['Age'].median()\n",
    "\n",
    "people_survived_mean_age = pd.DataFrame(\n",
    "        data = [[male_survived_age_upper, female_survived_age_upper, total_survived_age_upper],\n",
    "                [male_survived_age_middle, female_survived_age_middle, total_survived_age_middle],\n",
    "                [male_survived_age_lower, female_survived_age_lower, total_survived_age_lower],\n",
    "                [male_survived_age_total, female_survived_age_total, total_survived_age]],\n",
    "        index = ['Upper Class', 'Middle Class', 'Lower Class', 'Total'],\n",
    "        columns = ['Male', 'Female', 'Total']\n",
    ")\n",
    "\n",
    "people_survived_mean_age"
   ]
  },
  {
   "cell_type": "markdown",
   "metadata": {},
   "source": [
    "Median age of the survived male passenger is 30.72  and the female passenger is 27.91. Median age of the all survived passenger in the dataset is 29.7."
   ]
  },
  {
   "cell_type": "markdown",
   "metadata": {},
   "source": [
    "### Mean fair of survived and not survived people"
   ]
  },
  {
   "cell_type": "code",
   "execution_count": 13,
   "metadata": {
    "collapsed": false
   },
   "outputs": [
    {
     "data": {
      "text/html": [
       "<div>\n",
       "<table border=\"1\" class=\"dataframe\">\n",
       "  <thead>\n",
       "    <tr style=\"text-align: right;\">\n",
       "      <th></th>\n",
       "      <th>Survived</th>\n",
       "      <th>Not Survived</th>\n",
       "      <th>Total</th>\n",
       "    </tr>\n",
       "  </thead>\n",
       "  <tbody>\n",
       "    <tr>\n",
       "      <th>Fare</th>\n",
       "      <td>48.395408</td>\n",
       "      <td>22.117887</td>\n",
       "      <td>32.204208</td>\n",
       "    </tr>\n",
       "  </tbody>\n",
       "</table>\n",
       "</div>"
      ],
      "text/plain": [
       "       Survived  Not Survived      Total\n",
       "Fare  48.395408     22.117887  32.204208"
      ]
     },
     "execution_count": 13,
     "metadata": {},
     "output_type": "execute_result"
    }
   ],
   "source": [
    "mean_survived_fare = df[(df['Survived'] == 1)]['Fare'].mean()\n",
    "mean_unsurvived_fare = df[(df['Survived'] == 0)]['Fare'].mean()\n",
    "mean_total_fare = df['Fare'].mean()\n",
    "\n",
    "mean_fare = pd.DataFrame(\n",
    "        data = [[mean_survived_fare, mean_unsurvived_fare, mean_total_fare]],\n",
    "        index = ['Fare'],\n",
    "        columns = ['Survived', 'Not Survived', 'Total']\n",
    ")\n",
    "\n",
    "mean_fare"
   ]
  },
  {
   "cell_type": "markdown",
   "metadata": {},
   "source": [
    "Survived people fare are significantly higher than unsurvived people."
   ]
  },
  {
   "cell_type": "markdown",
   "metadata": {},
   "source": [
    "### Standard deviation in the fare of survived and not survived people"
   ]
  },
  {
   "cell_type": "code",
   "execution_count": 14,
   "metadata": {
    "collapsed": false
   },
   "outputs": [
    {
     "data": {
      "text/html": [
       "<div>\n",
       "<table border=\"1\" class=\"dataframe\">\n",
       "  <thead>\n",
       "    <tr style=\"text-align: right;\">\n",
       "      <th></th>\n",
       "      <th>Survived</th>\n",
       "      <th>Not Survived</th>\n",
       "      <th>Total</th>\n",
       "    </tr>\n",
       "  </thead>\n",
       "  <tbody>\n",
       "    <tr>\n",
       "      <th>Fare</th>\n",
       "      <td>48.395408</td>\n",
       "      <td>22.117887</td>\n",
       "      <td>32.204208</td>\n",
       "    </tr>\n",
       "  </tbody>\n",
       "</table>\n",
       "</div>"
      ],
      "text/plain": [
       "       Survived  Not Survived      Total\n",
       "Fare  48.395408     22.117887  32.204208"
      ]
     },
     "execution_count": 14,
     "metadata": {},
     "output_type": "execute_result"
    }
   ],
   "source": [
    "std_survived_fare = df[(df['Survived'] == 1)]['Fare'].std()\n",
    "std_unsurvived_fare = df[(df['Survived'] == 0)]['Fare'].std()\n",
    "std_total_fare = df['Fare'].mean()\n",
    "\n",
    "std_fare = pd.DataFrame(\n",
    "        data = [[std_survived_fare, std_unsurvived_fare, std_total_fare]],\n",
    "        index = ['Fare'],\n",
    "        columns = ['Survived', 'Not Survived', 'Total']\n",
    ")\n",
    "\n",
    "mean_fare"
   ]
  },
  {
   "cell_type": "markdown",
   "metadata": {},
   "source": [
    "Standard deviation are higher for both cases but std of survived are significantly higher than unsurvived people. "
   ]
  },
  {
   "cell_type": "markdown",
   "metadata": {},
   "source": [
    "### Min and max fare"
   ]
  },
  {
   "cell_type": "code",
   "execution_count": 15,
   "metadata": {
    "collapsed": false
   },
   "outputs": [
    {
     "data": {
      "text/html": [
       "<div>\n",
       "<table border=\"1\" class=\"dataframe\">\n",
       "  <thead>\n",
       "    <tr style=\"text-align: right;\">\n",
       "      <th></th>\n",
       "      <th>Survived</th>\n",
       "      <th>Not Survived</th>\n",
       "      <th>Total</th>\n",
       "    </tr>\n",
       "  </thead>\n",
       "  <tbody>\n",
       "    <tr>\n",
       "      <th>Min Fare</th>\n",
       "      <td>0.0000</td>\n",
       "      <td>0.0</td>\n",
       "      <td>0.0000</td>\n",
       "    </tr>\n",
       "    <tr>\n",
       "      <th>Max Fare</th>\n",
       "      <td>512.3292</td>\n",
       "      <td>263.0</td>\n",
       "      <td>512.3292</td>\n",
       "    </tr>\n",
       "  </tbody>\n",
       "</table>\n",
       "</div>"
      ],
      "text/plain": [
       "          Survived  Not Survived     Total\n",
       "Min Fare    0.0000           0.0    0.0000\n",
       "Max Fare  512.3292         263.0  512.3292"
      ]
     },
     "execution_count": 15,
     "metadata": {},
     "output_type": "execute_result"
    }
   ],
   "source": [
    "min_fare_survived = df[(df['Survived'] == 1)]['Fare'].min()\n",
    "min_fare_unsurvived = df[(df['Survived'] == 0)]['Fare'].min()\n",
    "min_fare_total = df['Fare'].min()\n",
    "max_fare_survived = df[(df['Survived'] == 1)]['Fare'].max()\n",
    "max_fare_unsurvived = df[(df['Survived'] == 0)]['Fare'].max()\n",
    "max_fare_total = df['Fare'].max()\n",
    "\n",
    "min_max_fare = pd.DataFrame(\n",
    "        data = [[min_fare_survived, min_fare_unsurvived, min_fare_total],\n",
    "                [max_fare_survived, max_fare_unsurvived, max_fare_total]],\n",
    "        index = ['Min Fare', 'Max Fare'],\n",
    "        columns = ['Survived', 'Not Survived', 'Total']\n",
    ")\n",
    "\n",
    "min_max_fare"
   ]
  },
  {
   "cell_type": "markdown",
   "metadata": {},
   "source": [
    "Above conclusion draw some interesting conclusion that min fare of both survived and unsurvived people are equal to 0. But, max fare are significantly high."
   ]
  },
  {
   "cell_type": "markdown",
   "metadata": {},
   "source": [
    "## Third Stage: Data Visualization"
   ]
  },
  {
   "cell_type": "markdown",
   "metadata": {},
   "source": [
    "### Passenger ages"
   ]
  },
  {
   "cell_type": "code",
   "execution_count": 16,
   "metadata": {
    "collapsed": false
   },
   "outputs": [
    {
     "name": "stderr",
     "output_type": "stream",
     "text": [
      "/home/pk/anaconda2/lib/python2.7/site-packages/matplotlib/font_manager.py:273: UserWarning: Matplotlib is building the font cache using fc-list. This may take a moment.\n",
      "  warnings.warn('Matplotlib is building the font cache using fc-list. This may take a moment.')\n"
     ]
    },
    {
     "name": "stdout",
     "output_type": "stream",
     "text": [
      "Populating the interactive namespace from numpy and matplotlib\n"
     ]
    },
    {
     "data": {
      "image/png": "[encoded data removed]",
      "text/plain": [
       "<matplotlib.figure.Figure at 0x7fe0346151d0>"
      ]
     },
     "metadata": {},
     "output_type": "display_data"
    }
   ],
   "source": [
    "%pylab inline\n",
    "import matplotlib.pyplot as plt\n",
    "import seaborn as sns\n",
    "\n",
    "plt.hist(df_nan['Age'], color = 'red')\n",
    "plt.title('Distribution of Passenger Ages')\n",
    "plt.xlabel('Passenger Age')\n",
    "plt.ylabel('Numbers of Passenger')\n",
    "plt.show()"
   ]
  },
  {
   "cell_type": "markdown",
   "metadata": {},
   "source": [
    "Mostly the age of the passenger in the dataset are in range of 20-60 where the maximum number occured in 30-40. "
   ]
  },
  {
   "cell_type": "markdown",
   "metadata": {},
   "source": [
    "### Distribution of passenger ages"
   ]
  },
  {
   "cell_type": "code",
   "execution_count": 17,
   "metadata": {
    "collapsed": false
   },
   "outputs": [
    {
     "data": {
      "image/png": "[encoded data removed]",
      "text/plain": [
       "<matplotlib.figure.Figure at 0x7fe03193a550>"
      ]
     },
     "metadata": {},
     "output_type": "display_data"
    }
   ],
   "source": [
    "def get_age(sex, survived):\n",
    "    return df[(df['Sex'] == sex) & (df['Survived'] == survived)]['Age']\n",
    "def get_id(sex, survived):\n",
    "    return df[(df['Sex'] == sex) & (df['Survived'] == survived)]['PassengerId']\n",
    "\n",
    "x1 = get_id('male', 1)\n",
    "y1 = get_age('male', 1)\n",
    "x2 = get_id('male', 0)\n",
    "y2 = get_age('male', 0)\n",
    "x3 = get_id('female', 1)\n",
    "y3 = get_age('female', 1)\n",
    "x4 = get_id('female', 0)\n",
    "y4 = get_age('female', 0)\n",
    "\n",
    "fig = plt.figure(figsize=(16, 10))\n",
    "plot1 = plt.scatter(x1,y1,c='r',s=40)\n",
    "plot2 = plt.scatter(x2,y2,c='b',s=40)\n",
    "plot3 = plt.scatter(x3, y3,c ='black',s=50,marker='^')\n",
    "plot4 = plt.scatter(x4,y4,c='g',s=50,marker='^')\n",
    "\n",
    "plt.xlabel('Passenger ID')\n",
    "plt.ylabel('Age')\n",
    "plt.legend((plot1,plot2,plot3,plot4), ('Male Survived','Male not Survived','Female Survived','Female Not Survived'), \n",
    "           loc='best')\n",
    "plt.show()"
   ]
  },
  {
   "cell_type": "markdown",
   "metadata": {},
   "source": [
    "From the above scatter, we conclude that the female with age >= 60 are totally survived. We are not seeing any pattern for male. No other pattern is observed from the plot."
   ]
  },
  {
   "cell_type": "markdown",
   "metadata": {},
   "source": []
  },
  {
   "cell_type": "markdown",
   "metadata": {},
   "source": [
    "### Number of male survivability by class\n",
    "Number of total male vs male survived in each classes."
   ]
  },
  {
   "cell_type": "code",
   "execution_count": 18,
   "metadata": {
    "collapsed": false
   },
   "outputs": [
    {
     "data": {
      "image/png": "[encoded data removed]",
      "text/plain": [
       "<matplotlib.figure.Figure at 0x7fe031d44610>"
      ]
     },
     "metadata": {},
     "output_type": "display_data"
    }
   ],
   "source": [
    "import numpy as np\n",
    "import matplotlib.pyplot as plt\n",
    "\n",
    "male = (male_upper, male_middle, male_lower)\n",
    "male_survived = (male_survived_upper, male_survived_middle, male_survived_lower)\n",
    "\n",
    "index = np.arange(3)\n",
    "bar_width = 0.30\n",
    "opacity = 0.5\n",
    "\n",
    "bar1 = plt.bar(index, male, bar_width, alpha = opacity, color = 'b', label = 'Total Male')\n",
    "bar2 = plt,bar(index + bar_width, male_survived, bar_width, alpha = opacity, color = 'r', label = 'Male Survived')\n",
    "\n",
    "plt.xlabel('Passenger Class')\n",
    "plt.ylabel('Numbers of Male')\n",
    "plt.title('Male Survivability by Class')\n",
    "plt.xticks(index + bar_width, ('Upper', 'Middle', 'Lower'))\n",
    "plt.legend()\n",
    "\n",
    "plt.tight_layout()\n",
    "plt.show()"
   ]
  },
  {
   "cell_type": "markdown",
   "metadata": {},
   "source": [
    "### Number of female survivability by class\n",
    "Number of total female vs female survived in each classes."
   ]
  },
  {
   "cell_type": "code",
   "execution_count": 19,
   "metadata": {
    "collapsed": false
   },
   "outputs": [
    {
     "data": {
      "image/png": "[encoded data removed]",
      "text/plain": [
       "<matplotlib.figure.Figure at 0x7fe03e878d10>"
      ]
     },
     "metadata": {},
     "output_type": "display_data"
    }
   ],
   "source": [
    "import numpy as np\n",
    "import matplotlib.pyplot as plt\n",
    "\n",
    "female = (female_upper, female_middle, female_lower)\n",
    "female_survived = (female_survived_upper, female_survived_middle, female_survived_lower)\n",
    "\n",
    "index = np.arange(3)\n",
    "bar_width = 0.30\n",
    "opacity = 0.5\n",
    "\n",
    "bar1 = plt.bar(index, female, bar_width, alpha = opacity, color = 'b', label = 'Total female')\n",
    "bar2 = plt,bar(index + bar_width, female_survived, bar_width, alpha = opacity, color = 'r', label = 'Female Survived')\n",
    "\n",
    "plt.xlabel('Passenger Class')\n",
    "plt.ylabel('Numbers of Female')\n",
    "plt.title('Female Survivability by Class')\n",
    "plt.xticks(index + bar_width, ('Upper', 'Middle', 'Lower'))\n",
    "plt.legend()\n",
    "\n",
    "plt.tight_layout()\n",
    "plt.show()"
   ]
  },
  {
   "cell_type": "markdown",
   "metadata": {},
   "source": [
    "### Servivability rate"
   ]
  },
  {
   "cell_type": "code",
   "execution_count": 20,
   "metadata": {
    "collapsed": false
   },
   "outputs": [
    {
     "data": {
      "image/png": "[encoded data removed]",
      "text/plain": [
       "<matplotlib.figure.Figure at 0x7fe0317bd150>"
      ]
     },
     "metadata": {},
     "output_type": "display_data"
    }
   ],
   "source": [
    "male = (male_survived_upper/float(male_upper), male_survived_middle/float(male_middle), \\\n",
    "              male_survived_lower/float(male_lower))\n",
    "female = (female_survived_upper/float(female_upper), female_survived_middle/float(female_middle), \\\n",
    "          female_survived_lower/float(female_lower))\n",
    "\n",
    "index = np.arange(3)\n",
    "bar_width = 0.30\n",
    "opacity = 0.8\n",
    "\n",
    "bar1 = plt.bar(index, male, bar_width, alpha = opacity, color = 'g', label = 'Male')\n",
    "bar2 = plt,bar(index + bar_width, female, bar_width, alpha = opacity, color = 'r', label = 'Female')\n",
    "\n",
    "plt.xlabel('Passenger Class')\n",
    "plt.ylabel('Survivability Rate')\n",
    "plt.title('Survivability Rate by Class')\n",
    "plt.xticks(index + bar_width, ('Upper', 'Middle', 'Lower'))\n",
    "plt.legend()\n",
    "\n",
    "plt.tight_layout()\n",
    "plt.show()"
   ]
  },
  {
   "cell_type": "markdown",
   "metadata": {},
   "source": [
    "From the above plot, We find that the female survivability rate is larger than the male for every classes. Moreover, the survivability rate of female upper class is maximum equal to 0.968."
   ]
  },
  {
   "cell_type": "markdown",
   "metadata": {
    "collapsed": true
   },
   "source": [
    "### Boxplot of servivability"
   ]
  },
  {
   "cell_type": "code",
   "execution_count": 21,
   "metadata": {
    "collapsed": false
   },
   "outputs": [
    {
     "data": {
      "image/png": "[encoded data removed]",
      "text/plain": [
       "<matplotlib.figure.Figure at 0x7fe0317c8ad0>"
      ]
     },
     "metadata": {},
     "output_type": "display_data"
    }
   ],
   "source": [
    "df = pd.read_csv('/home/pk/titanic_data.csv')\n",
    "\n",
    "fig = plt.figure()\n",
    "box = sns.boxplot(x = 'Survived', y = 'Age', hue = 'Sex', data = df, order = [0,1], palette=\"Set2\")\n",
    "sns.despine(offset = 10, trim = True)\n",
    "\n",
    "labels = ['Not Survived','Survived']\n",
    "plt.subplots_adjust(top = 0.9)\n",
    "box.set_ylabel('Age')\n",
    "box.set_xlabel(' ')\n",
    "box.set_xticklabels(labels)\n",
    "sns.plt.title('Box Plot of Servivability')\n",
    "plt.show()"
   ]
  },
  {
   "cell_type": "markdown",
   "metadata": {},
   "source": [
    "Above boxplot show that median of both male and female passenger survived are same equal to 28. "
   ]
  },
  {
   "cell_type": "markdown",
   "metadata": {},
   "source": [
    "### Boxplot of passenger class"
   ]
  },
  {
   "cell_type": "code",
   "execution_count": 22,
   "metadata": {
    "collapsed": false
   },
   "outputs": [
    {
     "data": {
      "image/png": "[encoded data removed]",
      "text/plain": [
       "<matplotlib.figure.Figure at 0x7fe031574750>"
      ]
     },
     "metadata": {},
     "output_type": "display_data"
    }
   ],
   "source": [
    "fig = plt.figure()\n",
    "box = sns.boxplot(x = 'Pclass', y = 'Age', hue = 'Sex', data = df, order = [1,2,3], palette=\"Set3\")\n",
    "sns.despine(offset = 10, trim = True)\n",
    "\n",
    "labels = ['Upper','Middle', 'Lower']\n",
    "plt.subplots_adjust(top = 0.9)\n",
    "box.set_ylabel('Age')\n",
    "box.set_xlabel(' ')\n",
    "box.set_xticklabels(labels)\n",
    "sns.plt.title('Box Plot of Passenger Class')\n",
    "plt.show()"
   ]
  },
  {
   "cell_type": "markdown",
   "metadata": {},
   "source": [
    "Above plot show that the upper class people are generally belong to higher age group with median equal to 40 for male and 35 for female. The lower class people are likely belong to lower age group with median equal to 25 for male and 21.5 for female."
   ]
  },
  {
   "cell_type": "markdown",
   "metadata": {},
   "source": [
    "### Boxplot of fare and survivability"
   ]
  },
  {
   "cell_type": "code",
   "execution_count": 23,
   "metadata": {
    "collapsed": false
   },
   "outputs": [
    {
     "data": {
      "image/png": "[encoded data removed]",
      "text/plain": [
       "<matplotlib.figure.Figure at 0x7fe031777710>"
      ]
     },
     "metadata": {},
     "output_type": "display_data"
    }
   ],
   "source": [
    "fig = plt.figure()\n",
    "box = sns.boxplot(x = 'Survived', y = 'Fare', order = [0,1], data = df, palette=\"Set1\")\n",
    "sns.despine(offset = 10, trim = True)\n",
    "\n",
    "labels = ['Not Survived','Survived']\n",
    "plt.subplots_adjust(top = 0.9)\n",
    "box.set_ylabel('Age')\n",
    "box.set_xlabel(' ')\n",
    "box.set_xticklabels(labels)\n",
    "sns.plt.title('Box Plot of fare')\n",
    "plt.show()"
   ]
  },
  {
   "cell_type": "markdown",
   "metadata": {},
   "source": [
    "Above plot show that there are lots of outlier which cause higher standard deviation for both cases."
   ]
  },
  {
   "cell_type": "markdown",
   "metadata": {},
   "source": [
    "## Fourth Stage: Conclusion"
   ]
  },
  {
   "cell_type": "markdown",
   "metadata": {},
   "source": [
    "After analysing the above plots, we can draw following conclusions:\n",
    "1. The upper class people are more likely to survive compare to the middle and lower class people.\n",
    "2. Female upper class people have the extreme chance of survival with probability equal to 0.968.\n",
    "3. Male upper class people have also more chance of survival compare to middle and lower class.\n",
    "4. The mean and median of both gender survivability are approx. same which is equal to 28.\n",
    "5. The lower class people are mostly belong to shorter age-group 20-30.\n",
    "6. The upper class people are mostly belong to higher age-group 35-45.\n",
    "7. There are many outliers in the fare.\n",
    "8. Min fare are equal to zero for both survived and unsurvived cases.\n",
    "9. Max fare are very high for both cases but max survived fare are significantly higher than unsurvived fare.\n",
    "10. There is correlation in both the fare and passenger class. As, the fare and class increases, chance of the survivability also increase.\n",
    "\n",
    "Our results can be more accurate if some more extra information available:\n",
    "1. We know 100% data of the age of the people so that we can draw clear conclusion about the age-group.\n",
    "2. The members of the particular family is given a \"Group ID\" so that we can distinguish among lastname and find exact numbers of the people belonging to the particular family."
   ]
  }
 ],
 "metadata": {
  "kernelspec": {
   "display_name": "Python 2",
   "language": "python",
   "name": "python2"
  },
  "language_info": {
   "codemirror_mode": {
    "name": "ipython",
    "version": 2
   },
   "file_extension": ".py",
   "mimetype": "text/x-python",
   "name": "python",
   "nbconvert_exporter": "python",
   "pygments_lexer": "ipython2",
   "version": "2.7.11"
  }
 },
 "nbformat": 4,
 "nbformat_minor": 0
}
